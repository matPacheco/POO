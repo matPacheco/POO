{
 "cells": [
  {
   "cell_type": "markdown",
   "metadata": {
    "colab_type": "text",
    "id": "yE4-oPFbHzVJ"
   },
   "source": [
    "# Sistemas Inteligentes\n",
    "\n",
    "## Lab 1 - Introdução\n",
    "\n",
    "* Metodologia de trabalho\n",
    "* Apresentação das ferramentas\n",
    "* Comandos usuais da linguagem Python"
   ]
  },
  {
   "cell_type": "markdown",
   "metadata": {
    "colab_type": "text",
    "id": "wRPwUOSYHzVK"
   },
   "source": [
    "### Identificação do Aluno"
   ]
  },
  {
   "cell_type": "markdown",
   "metadata": {
    "colab_type": "text",
    "id": "tgG8qEXyHzVL"
   },
   "source": [
    "#### Nome Completo"
   ]
  },
  {
   "cell_type": "markdown",
   "metadata": {
    "colab_type": "text",
    "id": "NWNBcQWzHzVM"
   },
   "source": [
    "Luneque Junior"
   ]
  },
  {
   "cell_type": "markdown",
   "metadata": {
    "colab_type": "text",
    "id": "pxjwwroDHzVN"
   },
   "source": [
    "#### RA"
   ]
  },
  {
   "cell_type": "markdown",
   "metadata": {
    "colab_type": "text",
    "id": "B7ovlRBIHzVO"
   },
   "source": [
    "ESCREVA AQUI A SUA RESPOSTA"
   ]
  },
  {
   "cell_type": "markdown",
   "metadata": {
    "colab_type": "text",
    "id": "ADgFi63qHzVP"
   },
   "source": [
    "## 1. Importando bibliotecas, pacotes e funções"
   ]
  },
  {
   "cell_type": "code",
   "execution_count": 1,
   "metadata": {
    "colab": {},
    "colab_type": "code",
    "id": "-IDcWU6AHzVQ"
   },
   "outputs": [],
   "source": [
    "# Biblioteca de álgebra linear\n",
    "import numpy as np\n",
    "\n",
    "# Pacote de funções para plot\n",
    "import matplotlib.pyplot as plt\n",
    "\n",
    "# Função de Mínimos Quadrados ('Least Squares')\n",
    "from scipy.linalg import lstsq"
   ]
  },
  {
   "cell_type": "markdown",
   "metadata": {
    "colab_type": "text",
    "id": "H6iU7WOgHzVU"
   },
   "source": [
    "<font color='red'>**Exercício:**</font>  importe a função **hamming** do pacote **signal** pertencente à biblioteca **scipy** já apelidando-a como \"ham\"."
   ]
  },
  {
   "cell_type": "code",
   "execution_count": 0,
   "metadata": {
    "colab": {},
    "colab_type": "code",
    "id": "FEyZs9KNHzVV"
   },
   "outputs": [],
   "source": [
    "### INSIRA AQUI O CÓDIGO ###"
   ]
  },
  {
   "cell_type": "markdown",
   "metadata": {
    "colab_type": "text",
    "id": "50BMBV0bHzVY"
   },
   "source": [
    "## 2. Tipos de dados"
   ]
  },
  {
   "cell_type": "markdown",
   "metadata": {
    "colab_type": "text",
    "id": "KGKiKcOUHzVZ"
   },
   "source": [
    "### 2.1. Inteiro"
   ]
  },
  {
   "cell_type": "code",
   "execution_count": 0,
   "metadata": {
    "colab": {
     "base_uri": "https://localhost:8080/",
     "height": 33
    },
    "colab_type": "code",
    "executionInfo": {
     "elapsed": 1429,
     "status": "ok",
     "timestamp": 1569259036127,
     "user": {
      "displayName": "Luneque Silva Junior",
      "photoUrl": "https://lh3.googleusercontent.com/a-/AAuE7mCtDwTav4dOFMl9OPvyMSrHuIscMJCEMTxTSYZu=s64",
      "userId": "05367922559881371579"
     },
     "user_tz": 180
    },
    "id": "A1Uqg-etHzVa",
    "outputId": "f2df915f-1171-41e8-982b-b74b1d59cba4"
   },
   "outputs": [
    {
     "data": {
      "text/plain": [
       "int"
      ]
     },
     "execution_count": 2,
     "metadata": {
      "tags": []
     },
     "output_type": "execute_result"
    }
   ],
   "source": [
    "type(3)"
   ]
  },
  {
   "cell_type": "markdown",
   "metadata": {
    "colab_type": "text",
    "id": "u6t5oIP3HzVd"
   },
   "source": [
    "### 2.2. Float"
   ]
  },
  {
   "cell_type": "code",
   "execution_count": 0,
   "metadata": {
    "colab": {},
    "colab_type": "code",
    "id": "4BiM85XSHzVe"
   },
   "outputs": [],
   "source": [
    "type(3.23213)"
   ]
  },
  {
   "cell_type": "markdown",
   "metadata": {
    "colab_type": "text",
    "id": "mjxbh0orHzVh"
   },
   "source": [
    "### 2.3. String"
   ]
  },
  {
   "cell_type": "code",
   "execution_count": 0,
   "metadata": {
    "colab": {},
    "colab_type": "code",
    "id": "xpHlqcK_HzVi"
   },
   "outputs": [],
   "source": [
    "type('Testing')"
   ]
  },
  {
   "cell_type": "markdown",
   "metadata": {
    "colab_type": "text",
    "id": "afSjJuSCHzVl"
   },
   "source": [
    "### 2.4. List"
   ]
  },
  {
   "cell_type": "code",
   "execution_count": 0,
   "metadata": {
    "colab": {},
    "colab_type": "code",
    "id": "FYY-0vBIHzVn"
   },
   "outputs": [],
   "source": [
    "type([1,2,3])"
   ]
  },
  {
   "cell_type": "markdown",
   "metadata": {
    "colab_type": "text",
    "id": "D6zaF8QQHzVr"
   },
   "source": [
    "### 2.5. Array"
   ]
  },
  {
   "cell_type": "code",
   "execution_count": 0,
   "metadata": {
    "colab": {},
    "colab_type": "code",
    "id": "I8FGJyCiHzVs"
   },
   "outputs": [],
   "source": [
    "type(np.array([1,2,3]))"
   ]
  },
  {
   "cell_type": "markdown",
   "metadata": {
    "colab_type": "text",
    "id": "BCWXsUz-HzVv"
   },
   "source": [
    "<font color='red'>**Exercício:**</font>  Crie uma variável ou estrutura de qualquer tipo, então verifique se ela está, de fato, com o tipo almejado por você no ato da criação."
   ]
  },
  {
   "cell_type": "code",
   "execution_count": 0,
   "metadata": {
    "colab": {},
    "colab_type": "code",
    "id": "dbxyST2zHzVw"
   },
   "outputs": [],
   "source": [
    "### INSIRA AQUI O CÓDIGO ###"
   ]
  },
  {
   "cell_type": "markdown",
   "metadata": {
    "colab_type": "text",
    "id": "bJxbu_DwHzVz"
   },
   "source": [
    "## 3. Operações básicas"
   ]
  },
  {
   "cell_type": "markdown",
   "metadata": {
    "colab_type": "text",
    "id": "y2GsTtFsHzV0"
   },
   "source": [
    "### 3.1. Soma"
   ]
  },
  {
   "cell_type": "code",
   "execution_count": 0,
   "metadata": {
    "colab": {},
    "colab_type": "code",
    "id": "FHkV3Ve3HzV1"
   },
   "outputs": [],
   "source": [
    "5 + 9"
   ]
  },
  {
   "cell_type": "markdown",
   "metadata": {
    "colab_type": "text",
    "id": "cyZf5vCjHzV3"
   },
   "source": [
    "### 3.2. Subtração"
   ]
  },
  {
   "cell_type": "code",
   "execution_count": 0,
   "metadata": {
    "colab": {},
    "colab_type": "code",
    "id": "9EDYs1sQHzV4"
   },
   "outputs": [],
   "source": [
    "3 - 7"
   ]
  },
  {
   "cell_type": "markdown",
   "metadata": {
    "colab_type": "text",
    "id": "XmaFQcu-HzV7"
   },
   "source": [
    "### 3.3. Multiplicação"
   ]
  },
  {
   "cell_type": "code",
   "execution_count": 0,
   "metadata": {
    "colab": {},
    "colab_type": "code",
    "id": "LNcfpFYmHzV8"
   },
   "outputs": [],
   "source": [
    "2 * 4"
   ]
  },
  {
   "cell_type": "markdown",
   "metadata": {
    "colab_type": "text",
    "id": "T7iB5Gr3HzV_"
   },
   "source": [
    "### 3.4. Divisão"
   ]
  },
  {
   "cell_type": "code",
   "execution_count": 0,
   "metadata": {
    "colab": {},
    "colab_type": "code",
    "id": "Gp8KecSQHzWA"
   },
   "outputs": [],
   "source": [
    "15 / 3"
   ]
  },
  {
   "cell_type": "markdown",
   "metadata": {
    "colab_type": "text",
    "id": "6JxKtGZiHzWC"
   },
   "source": [
    "<font color='red'>**Exercício:**</font>  efetue algum cálculo envolvendo todas as operações básicas; tudo em uma mesma linha de código."
   ]
  },
  {
   "cell_type": "code",
   "execution_count": 0,
   "metadata": {
    "colab": {},
    "colab_type": "code",
    "id": "yTvB7dNzHzWD"
   },
   "outputs": [],
   "source": [
    "### INSIRA AQUI O CÓDIGO ###"
   ]
  },
  {
   "cell_type": "markdown",
   "metadata": {
    "colab_type": "text",
    "id": "70RmtObIHzWH"
   },
   "source": [
    "## 4. Manipulações com Listas"
   ]
  },
  {
   "cell_type": "markdown",
   "metadata": {
    "colab_type": "text",
    "id": "7flDDuPpHzWI"
   },
   "source": [
    "### 4.1. Criando uma lista"
   ]
  },
  {
   "cell_type": "markdown",
   "metadata": {
    "colab_type": "text",
    "id": "9z13e5fPHzWJ"
   },
   "source": [
    "Estes são alguns exemplos típicos de listas em Python. L1 é uma lista simples; L2 é uma lista de listas de mesmo tamanho; L3 é uma lista de listas de diferentes tamanhos; e L4 é uma lista vazia."
   ]
  },
  {
   "cell_type": "code",
   "execution_count": 0,
   "metadata": {
    "colab": {},
    "colab_type": "code",
    "id": "7rA8y4u0HzWK"
   },
   "outputs": [],
   "source": [
    "L1 = [1, 3, 7, 29]\n",
    "\n",
    "L2 = [[1,2,3], [4,5,6], [7,8,9]]\n",
    "\n",
    "L3 = [[1], [2,3], [4,5,6]]\n",
    "\n",
    "L4 = []"
   ]
  },
  {
   "cell_type": "markdown",
   "metadata": {
    "colab_type": "text",
    "id": "ShWhftAkHzWP"
   },
   "source": [
    "### 4.2. Adicionando itens ao fim de uma lista"
   ]
  },
  {
   "cell_type": "code",
   "execution_count": 0,
   "metadata": {
    "colab": {},
    "colab_type": "code",
    "id": "IwmjWQaDHzWQ"
   },
   "outputs": [],
   "source": [
    "L_teste = []\n",
    "\n",
    "L_teste.append(5)\n",
    "L_teste.append([1,3])\n",
    "L_teste.append([[7,2], [9, 0]])\n",
    "\n",
    "\n",
    "print(L_teste)"
   ]
  },
  {
   "cell_type": "markdown",
   "metadata": {
    "colab_type": "text",
    "id": "wiSfhSGZHzWT"
   },
   "source": [
    "### 4.3. Adicionando o conteúdo de uma lista ao fim de outra"
   ]
  },
  {
   "cell_type": "code",
   "execution_count": 0,
   "metadata": {
    "colab": {},
    "colab_type": "code",
    "id": "eK06YQhpHzWU"
   },
   "outputs": [],
   "source": [
    "L_teste_1 = []\n",
    "\n",
    "L_teste_2 = [3,4,5]\n",
    "L_teste_3 = [9,1,2,3,4,1]\n",
    "\n",
    "L_teste_1.extend(L_teste_2)\n",
    "\n",
    "print(L_teste_1)\n",
    "\n",
    "L_teste_1.extend(L_teste_3)\n",
    "\n",
    "print(L_teste_1)"
   ]
  },
  {
   "cell_type": "markdown",
   "metadata": {
    "colab_type": "text",
    "id": "_jeT0lKyHzWW"
   },
   "source": [
    "### 4.4. Encontrando a posição do primeiro item com determinado valor na lista"
   ]
  },
  {
   "cell_type": "code",
   "execution_count": 0,
   "metadata": {
    "colab": {},
    "colab_type": "code",
    "id": "ZAZC2Tg7HzWX"
   },
   "outputs": [],
   "source": [
    "L_teste = [7, 1, 2, 5, 2, 8, 9, 0, 3]\n",
    "\n",
    "L_teste.index(5)"
   ]
  },
  {
   "cell_type": "markdown",
   "metadata": {
    "colab_type": "text",
    "id": "GbTSR6NjHzWa"
   },
   "source": [
    "### 4.5. Ordenando os itens da lista"
   ]
  },
  {
   "cell_type": "code",
   "execution_count": 0,
   "metadata": {
    "colab": {},
    "colab_type": "code",
    "id": "pA27WBg6HzWb"
   },
   "outputs": [],
   "source": [
    "L_teste = [3, 1, 4, 6, 7, 9]\n",
    "\n",
    "L_teste.sort()\n",
    "\n",
    "print(L_teste)\n",
    "\n",
    "L_teste.sort(reverse=True)\n",
    "\n",
    "print(L_teste)"
   ]
  },
  {
   "cell_type": "markdown",
   "metadata": {
    "colab_type": "text",
    "id": "rO4lre__HzWd"
   },
   "source": [
    "<font color='red'>**Exercício:**</font> crie duas novas listas de diferentes tamanhos, então adicione os elementos da segunda lista ao final da primeira lista e imprima a lista resultante e a posição de um dos números dessa lista. Por fim, ordene a lista resultante e imprima a lista e a posição do mesmo valor."
   ]
  },
  {
   "cell_type": "code",
   "execution_count": 0,
   "metadata": {
    "colab": {},
    "colab_type": "code",
    "id": "EatgAtAHHzWe"
   },
   "outputs": [],
   "source": [
    "### INSIRA AQUI O CÓDIGO ###"
   ]
  },
  {
   "cell_type": "markdown",
   "metadata": {
    "colab_type": "text",
    "id": "Cnb9ErlIHzWg"
   },
   "source": [
    "## 5. Manipulações com Arrays (vetores ou matrizes)"
   ]
  },
  {
   "cell_type": "markdown",
   "metadata": {
    "colab_type": "text",
    "id": "kHKIOq0NHzWh"
   },
   "source": [
    "### 5.1. Criando duas matrizes de dimensões 3x3"
   ]
  },
  {
   "cell_type": "code",
   "execution_count": 0,
   "metadata": {
    "colab": {},
    "colab_type": "code",
    "id": "ik5b0IBRHzWi"
   },
   "outputs": [],
   "source": [
    "A = np.array([ [3, 4, 5], [6, 7, 8], [9, 0, 1] ])\n",
    "B = np.array([ [0, 1, 2], [3, 4, 5], [6, 7, 8] ])"
   ]
  },
  {
   "cell_type": "markdown",
   "metadata": {
    "colab_type": "text",
    "id": "7SNcJdhJHzWk"
   },
   "source": [
    "### 5.2. Exibindo as matrizes"
   ]
  },
  {
   "cell_type": "markdown",
   "metadata": {
    "colab_type": "text",
    "id": "o9biPUgUHzWm"
   },
   "source": [
    "#### 5.2.1. Por completo"
   ]
  },
  {
   "cell_type": "code",
   "execution_count": 0,
   "metadata": {
    "colab": {},
    "colab_type": "code",
    "id": "1JDuo-9MHzWm"
   },
   "outputs": [],
   "source": [
    "A"
   ]
  },
  {
   "cell_type": "code",
   "execution_count": 0,
   "metadata": {
    "colab": {},
    "colab_type": "code",
    "id": "wgJTEXOaHzWp"
   },
   "outputs": [],
   "source": [
    "B"
   ]
  },
  {
   "cell_type": "markdown",
   "metadata": {
    "colab_type": "text",
    "id": "9lHYwhzYHzWr"
   },
   "source": [
    "#### 5.2.2. Parcialmente"
   ]
  },
  {
   "cell_type": "code",
   "execution_count": 0,
   "metadata": {
    "colab": {},
    "colab_type": "code",
    "id": "LIiZ_qpuHzWs"
   },
   "outputs": [],
   "source": [
    "A[:, :2]"
   ]
  },
  {
   "cell_type": "code",
   "execution_count": 0,
   "metadata": {
    "colab": {},
    "colab_type": "code",
    "id": "B-YENdqlHzWv"
   },
   "outputs": [],
   "source": [
    "B[1:, 1]"
   ]
  },
  {
   "cell_type": "markdown",
   "metadata": {
    "colab_type": "text",
    "id": "x85tWJ_UHzWx"
   },
   "source": [
    "### 5.3. Soma de matrizes"
   ]
  },
  {
   "cell_type": "code",
   "execution_count": 0,
   "metadata": {
    "colab": {},
    "colab_type": "code",
    "id": "LGiuzi4bHzWz"
   },
   "outputs": [],
   "source": [
    "A + B"
   ]
  },
  {
   "cell_type": "markdown",
   "metadata": {
    "colab_type": "text",
    "id": "jnOBEE7HHzW2"
   },
   "source": [
    "### 5.4. Subtração de matrizes"
   ]
  },
  {
   "cell_type": "code",
   "execution_count": 0,
   "metadata": {
    "colab": {},
    "colab_type": "code",
    "id": "avhf7Fd5HzW3"
   },
   "outputs": [],
   "source": [
    "A - B"
   ]
  },
  {
   "cell_type": "markdown",
   "metadata": {
    "colab_type": "text",
    "id": "U50OM0GNHzW5"
   },
   "source": [
    "### 5.5. Multiplicação de matriz por escalar"
   ]
  },
  {
   "cell_type": "code",
   "execution_count": 0,
   "metadata": {
    "colab": {},
    "colab_type": "code",
    "id": "M0pAkyrBHzW6"
   },
   "outputs": [],
   "source": [
    "2 * A"
   ]
  },
  {
   "cell_type": "markdown",
   "metadata": {
    "colab_type": "text",
    "id": "YvZmTHVKHzW8"
   },
   "source": [
    "### 5.6. Produto escalar"
   ]
  },
  {
   "cell_type": "code",
   "execution_count": 0,
   "metadata": {
    "colab": {},
    "colab_type": "code",
    "id": "Ov51fiWyHzW9"
   },
   "outputs": [],
   "source": [
    "np.dot(A, B)"
   ]
  },
  {
   "cell_type": "markdown",
   "metadata": {
    "colab_type": "text",
    "id": "SrS_CqZhHzW_"
   },
   "source": [
    "### 5.7. Produto vetorial"
   ]
  },
  {
   "cell_type": "code",
   "execution_count": 0,
   "metadata": {
    "colab": {},
    "colab_type": "code",
    "id": "kqnaT6YEHzXA"
   },
   "outputs": [],
   "source": [
    "np.cross(A, B)"
   ]
  },
  {
   "cell_type": "markdown",
   "metadata": {
    "colab_type": "text",
    "id": "0iUSk3luHzXC"
   },
   "source": [
    "### 5.8. Transposição"
   ]
  },
  {
   "cell_type": "markdown",
   "metadata": {
    "colab_type": "text",
    "id": "X46Szo4YHzXD"
   },
   "source": [
    "#### 5.8.1. Utilizando a biblioteca Numpy"
   ]
  },
  {
   "cell_type": "code",
   "execution_count": 0,
   "metadata": {
    "colab": {},
    "colab_type": "code",
    "id": "Z0oNZyuKHzXE"
   },
   "outputs": [],
   "source": [
    "np.transpose(A)"
   ]
  },
  {
   "cell_type": "markdown",
   "metadata": {
    "colab_type": "text",
    "id": "n1mgAqjbHzXI"
   },
   "source": [
    "#### 5.8.2. Utilizando a transposição do próprio Python"
   ]
  },
  {
   "cell_type": "code",
   "execution_count": 0,
   "metadata": {
    "colab": {},
    "colab_type": "code",
    "id": "DIDxQGR_HzXK"
   },
   "outputs": [],
   "source": [
    "A.T"
   ]
  },
  {
   "cell_type": "markdown",
   "metadata": {
    "colab_type": "text",
    "id": "nGlgWInGHzXM"
   },
   "source": [
    "### 5.9. Inversão"
   ]
  },
  {
   "cell_type": "code",
   "execution_count": 0,
   "metadata": {
    "colab": {},
    "colab_type": "code",
    "id": "EUyK5tJxHzXN"
   },
   "outputs": [],
   "source": [
    "np.invert(A)"
   ]
  },
  {
   "cell_type": "markdown",
   "metadata": {
    "colab_type": "text",
    "id": "XM_acfitHzXP"
   },
   "source": [
    "### 5.10. Verificando as dimensões ('shape') da matriz"
   ]
  },
  {
   "cell_type": "code",
   "execution_count": 0,
   "metadata": {
    "colab": {},
    "colab_type": "code",
    "id": "8Xx0qVJSHzXQ"
   },
   "outputs": [],
   "source": [
    "A.shape"
   ]
  },
  {
   "cell_type": "markdown",
   "metadata": {
    "colab_type": "text",
    "id": "j_K_O3OmHzXS"
   },
   "source": [
    "### 5.11. Adicionando novas linhas ao fim de uma matriz já existente"
   ]
  },
  {
   "cell_type": "code",
   "execution_count": 0,
   "metadata": {
    "colab": {},
    "colab_type": "code",
    "id": "-KK1bmCdHzXT"
   },
   "outputs": [],
   "source": [
    "np.row_stack((A, np.array([1, 3, 7])))"
   ]
  },
  {
   "cell_type": "markdown",
   "metadata": {
    "colab_type": "text",
    "id": "pmAhU7ypHzXV"
   },
   "source": [
    "### 5.12. Adicionando novas colunas ao fim de uma matriz já existente"
   ]
  },
  {
   "cell_type": "code",
   "execution_count": 0,
   "metadata": {
    "colab": {},
    "colab_type": "code",
    "id": "zVOEqSTvHzXW"
   },
   "outputs": [],
   "source": [
    "np.column_stack((A, np.array([1, 3, 7])))"
   ]
  },
  {
   "cell_type": "markdown",
   "metadata": {
    "colab_type": "text",
    "id": "_nyvbOfYHzXa"
   },
   "source": [
    "<font color='red'>**Exercício:**</font> crie dois arrays 3x2, então calcule o produto escalar de um deles pela transposta do outro e imprima a primeira linha do array resultante."
   ]
  },
  {
   "cell_type": "code",
   "execution_count": 0,
   "metadata": {
    "colab": {},
    "colab_type": "code",
    "id": "plW-vwYYHzXb"
   },
   "outputs": [],
   "source": [
    "### INSIRA AQUI O CÓDIGO ###"
   ]
  },
  {
   "cell_type": "markdown",
   "metadata": {
    "colab_type": "text",
    "id": "k12wgIcTHzXd"
   },
   "source": [
    "## 6. Gerando um sinal e plotando gráficos"
   ]
  },
  {
   "cell_type": "markdown",
   "metadata": {
    "colab_type": "text",
    "id": "gamv_5eTHzXe"
   },
   "source": [
    "### 6.1. Gerando um vetor de 50 posições, igualmente \"espaçadas\", com valores de 0 a 6$\\pi$"
   ]
  },
  {
   "cell_type": "code",
   "execution_count": 0,
   "metadata": {
    "colab": {},
    "colab_type": "code",
    "id": "WC0ThNzgHzXf"
   },
   "outputs": [],
   "source": [
    "x = np.linspace(0, 6 * np.pi, 50)"
   ]
  },
  {
   "cell_type": "markdown",
   "metadata": {
    "colab_type": "text",
    "id": "06t5UU9sHzXh"
   },
   "source": [
    "### 6.2. Gerando um sinal senoidal a partir das posições do vetor anteriormente criado"
   ]
  },
  {
   "cell_type": "code",
   "execution_count": 0,
   "metadata": {
    "colab": {},
    "colab_type": "code",
    "id": "WzSzja0wHzXh"
   },
   "outputs": [],
   "source": [
    "y = np.sin(x)"
   ]
  },
  {
   "cell_type": "markdown",
   "metadata": {
    "colab_type": "text",
    "id": "G7WAfgnPHzXj"
   },
   "source": [
    "### 6.3. Plotando o sinal"
   ]
  },
  {
   "cell_type": "code",
   "execution_count": 0,
   "metadata": {
    "colab": {},
    "colab_type": "code",
    "id": "MQXn12lhHzXk"
   },
   "outputs": [],
   "source": [
    "plt.plot(x, y, label='cos(t)')\n",
    "plt.legend()\n",
    "plt.title('Sinal Senoidal')\n",
    "plt.xlabel('Tempo')\n",
    "plt.ylabel('Valor')"
   ]
  },
  {
   "cell_type": "markdown",
   "metadata": {
    "colab_type": "text",
    "id": "v5tclUnsHzXm"
   },
   "source": [
    "### 6.4 Plotando o gráfico de dispersão ('Scatter')"
   ]
  },
  {
   "cell_type": "code",
   "execution_count": 0,
   "metadata": {
    "colab": {},
    "colab_type": "code",
    "id": "GRHA6qzNHzXn"
   },
   "outputs": [],
   "source": [
    "plt.scatter(x, y, label='cos(t)')\n",
    "plt.legend()\n",
    "plt.title('Sinal Senoidal')\n",
    "plt.xlabel('Tempo')\n",
    "plt.ylabel('Valor')"
   ]
  },
  {
   "cell_type": "markdown",
   "metadata": {
    "colab_type": "text",
    "id": "o0ZBjTnjHzXp"
   },
   "source": [
    "### 6.5. Plotando gráficos de hastes ou ramos ('Stem')"
   ]
  },
  {
   "cell_type": "code",
   "execution_count": 0,
   "metadata": {
    "colab": {},
    "colab_type": "code",
    "id": "s2Nh97o-HzXq"
   },
   "outputs": [],
   "source": [
    "markerline, stemlines, baseline = plt.stem(x, y, label='cos(t)')\n",
    "plt.setp(markerline, color='r')\n",
    "plt.setp(stemlines, color='g', linewidth=3)\n",
    "plt.setp(baseline, color='b', linewidth=2)\n",
    "plt.legend()\n",
    "plt.title('Sinal Senoidal')\n",
    "plt.xlabel('Tempo')\n",
    "plt.ylabel('Valor')"
   ]
  },
  {
   "cell_type": "markdown",
   "metadata": {
    "colab_type": "text",
    "id": "LqrOTONXHzXv"
   },
   "source": [
    "### 6.6. Plotando múltiplos gráficos em uma única figura"
   ]
  },
  {
   "cell_type": "code",
   "execution_count": 0,
   "metadata": {
    "colab": {},
    "colab_type": "code",
    "id": "a-tj_nP9HzXw"
   },
   "outputs": [],
   "source": [
    "plt.plot(x, y, label='cos(t)')\n",
    "plt.plot(x, 2 * y, label='2 * cos(t)')\n",
    "plt.legend()\n",
    "plt.title('Sinais Senoidais')\n",
    "plt.xlabel('Tempo')\n",
    "plt.ylabel('Valor')"
   ]
  },
  {
   "cell_type": "markdown",
   "metadata": {
    "colab_type": "text",
    "id": "q6lMbefuHzX0"
   },
   "source": [
    "<font color='red'>**Exercício:**</font> gere três sinais diferentes, então faça o plot, o gráfico de dispersão e o diagrama de hastes; apenas um tipo para cada sinal."
   ]
  },
  {
   "cell_type": "code",
   "execution_count": 0,
   "metadata": {
    "colab": {},
    "colab_type": "code",
    "id": "Vp8kMOKlHzX0"
   },
   "outputs": [],
   "source": [
    "### INSIRA AQUI O CÓDIGO ###"
   ]
  },
  {
   "cell_type": "markdown",
   "metadata": {
    "colab_type": "text",
    "id": "ougyaxCDHzX3"
   },
   "source": [
    "## 7. Condicionais (if, elif e else)"
   ]
  },
  {
   "cell_type": "code",
   "execution_count": 0,
   "metadata": {
    "colab": {},
    "colab_type": "code",
    "id": "yCySsrYXHzX3"
   },
   "outputs": [],
   "source": [
    "n = 5\n",
    "\n",
    "if n < 4:\n",
    "    print('Low')\n",
    "elif n == 4:\n",
    "    print('Mid')\n",
    "else:\n",
    "    print('High')"
   ]
  },
  {
   "cell_type": "markdown",
   "metadata": {
    "colab_type": "text",
    "id": "G7GJmWizHzX6"
   },
   "source": [
    "## 8. Laços de repetição"
   ]
  },
  {
   "cell_type": "markdown",
   "metadata": {
    "colab_type": "text",
    "id": "KFWGAheQHzX7"
   },
   "source": [
    "### 8.1. For"
   ]
  },
  {
   "cell_type": "code",
   "execution_count": 0,
   "metadata": {
    "colab": {},
    "colab_type": "code",
    "id": "k0NEjai6HzX9"
   },
   "outputs": [],
   "source": [
    "for x in range(10):\n",
    "    print(x)"
   ]
  },
  {
   "cell_type": "code",
   "execution_count": 0,
   "metadata": {
    "colab": {},
    "colab_type": "code",
    "id": "TQdx7r_oHzX_"
   },
   "outputs": [],
   "source": [
    "K = [1, 3, 7, 11, 19]\n",
    "\n",
    "for x in K:\n",
    "    print(x)"
   ]
  },
  {
   "cell_type": "code",
   "execution_count": 0,
   "metadata": {
    "colab": {},
    "colab_type": "code",
    "id": "aOij-CZ_HzYA"
   },
   "outputs": [],
   "source": [
    "KK = [[1,3,2,5], [4,8,7,12]]\n",
    "\n",
    "for x in KK:\n",
    "    print(x)"
   ]
  },
  {
   "cell_type": "markdown",
   "metadata": {
    "colab_type": "text",
    "id": "4FlPn6LeHzYC"
   },
   "source": [
    "### 8.2. While"
   ]
  },
  {
   "cell_type": "code",
   "execution_count": 0,
   "metadata": {
    "colab": {},
    "colab_type": "code",
    "id": "EcOjiw6KHzYD"
   },
   "outputs": [],
   "source": [
    "i = 0\n",
    "\n",
    "while i < 5:\n",
    "    print(i)\n",
    "    i += 1"
   ]
  },
  {
   "cell_type": "markdown",
   "metadata": {
    "colab_type": "text",
    "id": "VK4G97_THzYF"
   },
   "source": [
    "## 9. Definindo funções"
   ]
  },
  {
   "cell_type": "markdown",
   "metadata": {
    "colab_type": "text",
    "id": "WnX_T-MaHzYF"
   },
   "source": [
    "### 9.1. Simples"
   ]
  },
  {
   "cell_type": "markdown",
   "metadata": {
    "colab_type": "text",
    "id": "9L8x9lXJHzYG"
   },
   "source": [
    "Esta é a definição de um exemplo bastante simples, que apenas retorna o resultado da soma dos dois números de entrada."
   ]
  },
  {
   "cell_type": "code",
   "execution_count": 0,
   "metadata": {
    "colab": {},
    "colab_type": "code",
    "id": "ZPl4OR8SHzYH"
   },
   "outputs": [],
   "source": [
    "def soma(a, b):\n",
    "    return a + b"
   ]
  },
  {
   "cell_type": "markdown",
   "metadata": {
    "colab_type": "text",
    "id": "p3cScCXgHzYK"
   },
   "source": [
    "Agora, que a função já está definida, ela está pronta para ser usada neste Notebook, independentemente da célula em que seja invocada."
   ]
  },
  {
   "cell_type": "code",
   "execution_count": 0,
   "metadata": {
    "colab": {},
    "colab_type": "code",
    "id": "aDoug5qtHzYL"
   },
   "outputs": [],
   "source": [
    "soma(7, 8)"
   ]
  },
  {
   "cell_type": "markdown",
   "metadata": {
    "colab_type": "text",
    "id": "XeUiPOF9HzYN"
   },
   "source": [
    "### 9.2. Com valores padrão"
   ]
  },
  {
   "cell_type": "markdown",
   "metadata": {
    "colab_type": "text",
    "id": "qRDe8rIUHzYP"
   },
   "source": [
    "Funções em Python podem ter variáveis de entrada com valores padrão, o que faz com que o usuário não precise entrar com o valor correspondente à variável de entrada em questão, desde que se deseje utilizar o valor padrão."
   ]
  },
  {
   "cell_type": "code",
   "execution_count": 0,
   "metadata": {
    "colab": {},
    "colab_type": "code",
    "id": "r2RjFrSEHzYQ"
   },
   "outputs": [],
   "source": [
    "def soma_padrao(a, b=3):\n",
    "    return a + b"
   ]
  },
  {
   "cell_type": "markdown",
   "metadata": {
    "colab_type": "text",
    "id": "XJRall-DHzYS"
   },
   "source": [
    "Pela função soma_padrao(), se forem utilizados os dois argumentos de entrada, o seu funcionamento é o mesmo da função soma(), porém, ao se utilizar um único argumento de entrada, a função passa a considerar o valor padrão para a segunda entrada (não fornecida pelo usuário)."
   ]
  },
  {
   "cell_type": "code",
   "execution_count": 0,
   "metadata": {
    "colab": {},
    "colab_type": "code",
    "id": "lUeypMQfHzYT"
   },
   "outputs": [],
   "source": [
    "soma_padrao(7, 8)"
   ]
  },
  {
   "cell_type": "code",
   "execution_count": 0,
   "metadata": {
    "colab": {},
    "colab_type": "code",
    "id": "D0irrgqpHzYV"
   },
   "outputs": [],
   "source": [
    "soma_padrao(7)"
   ]
  },
  {
   "cell_type": "markdown",
   "metadata": {
    "colab_type": "text",
    "id": "tthWnrUXHzYa"
   },
   "source": [
    "<font color='red'>**Exercício:**</font> crie uma função que utilize ao menos um condicional e ao menos um laço de repetição, além de ter pelo menos uma variável de entrada com valor padrão. Então, em outra célula, utilize a função criada para mostrar que funciona adequadamente."
   ]
  },
  {
   "cell_type": "code",
   "execution_count": 0,
   "metadata": {
    "colab": {},
    "colab_type": "code",
    "id": "hbxFy1x0HzYb"
   },
   "outputs": [],
   "source": [
    "### INSIRA AQUI O CÓDIGO DA FUNÇÃO ###"
   ]
  },
  {
   "cell_type": "code",
   "execution_count": 0,
   "metadata": {
    "colab": {},
    "colab_type": "code",
    "id": "JhqjDQaYHzYd"
   },
   "outputs": [],
   "source": [
    "### INSIRA AQUI O CÓDIGO DE TESTE ###"
   ]
  },
  {
   "cell_type": "markdown",
   "metadata": {
    "colab_type": "text",
    "id": "5Sx_6VOnHzYg"
   },
   "source": [
    "## 10. Ajuda"
   ]
  },
  {
   "cell_type": "markdown",
   "metadata": {
    "colab_type": "text",
    "id": "xaMc7DL4HzYh"
   },
   "source": [
    "#### Procurem consultar as documentações correspondentes para entender como funcionam as funções.\n",
    "\n",
    "* [Python](https://docs.python.org/3.6/)\n",
    "* [Numpy](https://docs.scipy.org/doc/numpy/reference/)\n",
    "* [Scipy](https://docs.scipy.org/doc/scipy/reference/)\n",
    "* [Scikit-Learn](http://scikit-learn.org/stable/documentation.html)"
   ]
  },
  {
   "cell_type": "markdown",
   "metadata": {
    "colab_type": "text",
    "id": "f3D6dv-UHzYi"
   },
   "source": [
    "Utilizando a própria linguagem Python também é possível obter ajuda quando se quer saber como funciona uma dada função. Para isso, basta utilizar a função $help()$ com o nome da função que deseja pesquisar. Por exemplo, caso se deseje saber mais sobre a função $linspace()$ da biblioteca Numpy, pode-se pesquisar assim:"
   ]
  },
  {
   "cell_type": "code",
   "execution_count": 0,
   "metadata": {
    "colab": {},
    "colab_type": "code",
    "id": "lmmnusB9HzYj"
   },
   "outputs": [],
   "source": [
    "help(np.linspace)"
   ]
  },
  {
   "cell_type": "markdown",
   "metadata": {
    "colab_type": "text",
    "id": "jASnI-haHzYm"
   },
   "source": [
    "#### Outras fontes também podem ser consultadas."
   ]
  },
  {
   "cell_type": "markdown",
   "metadata": {
    "colab_type": "text",
    "id": "WKck7GipHzYm"
   },
   "source": [
    "* [StackOverflow](https://stackoverflow.com/)\n",
    "* [Quora](https://www.quora.com/)"
   ]
  },
  {
   "cell_type": "code",
   "execution_count": 0,
   "metadata": {
    "colab": {},
    "colab_type": "code",
    "id": "2huHnscLHzYn"
   },
   "outputs": [],
   "source": []
  }
 ],
 "metadata": {
  "colab": {
   "name": "Lab 1 - Introdução.ipynb",
   "provenance": []
  },
  "kernelspec": {
   "display_name": "Python 3",
   "language": "python",
   "name": "python3"
  },
  "language_info": {
   "codemirror_mode": {
    "name": "ipython",
    "version": 3
   },
   "file_extension": ".py",
   "mimetype": "text/x-python",
   "name": "python",
   "nbconvert_exporter": "python",
   "pygments_lexer": "ipython3",
   "version": "3.8.3"
  }
 },
 "nbformat": 4,
 "nbformat_minor": 1
}
